{
 "cells": [
  {
   "cell_type": "code",
   "execution_count": 8,
   "metadata": {},
   "outputs": [
    {
     "name": "stdout",
     "output_type": "stream",
     "text": [
      "Enter Your Namesajjad\n",
      "English Marks90\n",
      "Urdu Marks90\n",
      "Math Marks90\n",
      "Islamiyat Marks90\n",
      "Physics Marks90\n",
      "Chemistry Marks90\n",
      "Total Marks600\n",
      "obtain marks = 540.0\n",
      "grade =  A+\n"
     ]
    }
   ],
   "source": [
    "import csv\n",
    "userName = input(\"Enter Your Name\")\n",
    "englishMarks = float(input(\"English Marks\"))\n",
    "urduMarks = float(input(\"Urdu Marks\"))\n",
    "mathMarks = float(input(\"Math Marks\"))\n",
    "islamiyatMarks = float(input(\"Islamiyat Marks\"))\n",
    "physicsMarks = float(input(\"Physics Marks\"))\n",
    "chemistryMarks = float(input(\"Chemistry Marks\"))\n",
    "totalMarks = float(input(\"Total Marks\"))\n",
    "obtainMarks = englishMarks + urduMarks + mathMarks + islamiyatMarks + physicsMarks + chemistryMarks\n",
    "print(\"obtain marks =\",obtainMarks)\n",
    "'userGrade = '''\n",
    "\n",
    "totalPercentage = float((obtainMarks / totalMarks) * 100)\n",
    "\n",
    "if(totalPercentage>=80):\n",
    "    userGrade='A+'\n",
    "elif(totalPercentage>=70 and totalPercentage<80):\n",
    "    userGrade='A'\n",
    "elif(totalPercentage>=60 and totalPercentage<70):\n",
    "    userGrade='B'\n",
    "elif(totalPercentage>=50 and totalPercentage<60):\n",
    "    userGrade='D'\n",
    "elif(totalPercentage>=40 and totalPercentage<50):\n",
    "    userGrade='E'\n",
    "else:\n",
    "    userGrade='F'\n",
    "    \n",
    "    \n",
    "print('grade = ', userGrade)        \n",
    "\n",
    "\n",
    "userData = [userName,englishMarks,urduMarks,mathMarks,islamiyatMarks,physicsMarks,chemistryMarks,obtainMarks,totalMarks,float(totalPercentage),userGrade]\n",
    "\n",
    "with open(\"MarkSheet.csv\",\"w\" ,newline=\"\") as f:\n",
    "\n",
    "        file_handler = csv.writer(f, delimiter=',')    \n",
    "        \n",
    "        file_handler.writerow([\"Name\",\"English\",\"Urdu\",\"Math\",\"Islamiyat\",\"Physics\",\"Chemistry\",\"Obtain Marks\",\"Total Marks\",\"Percentage\",\"Grade\"])\n",
    "        file_handler.writerow(userData)"
   ]
  },
  {
   "cell_type": "code",
   "execution_count": null,
   "metadata": {},
   "outputs": [],
   "source": []
  }
 ],
 "metadata": {
  "kernelspec": {
   "display_name": "Python 3",
   "language": "python",
   "name": "python3"
  },
  "language_info": {
   "codemirror_mode": {
    "name": "ipython",
    "version": 3
   },
   "file_extension": ".py",
   "mimetype": "text/x-python",
   "name": "python",
   "nbconvert_exporter": "python",
   "pygments_lexer": "ipython3",
   "version": "3.7.1"
  }
 },
 "nbformat": 4,
 "nbformat_minor": 2
}
